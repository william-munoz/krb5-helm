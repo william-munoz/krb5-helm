{
 "cells": [
  {
   "cell_type": "code",
   "execution_count": 1,
   "metadata": {},
   "outputs": [
    {
     "name": "stdout",
     "output_type": "stream",
     "text": [
      "HDFS: hdfs://hadoop-master.hadoop-domain.default-tenant.svc.cluster.local:9000\n",
      "V3IO: v3io://users/admin\n"
     ]
    }
   ],
   "source": [
    "import os\n",
    "\n",
    "hdfs_fs = 'hdfs://hadoop-master.hadoop-domain.default-tenant.svc.cluster.local:9000'\n",
    "v3io_fs =  os.getenv('V3IO_HOME_URL')\n",
    "\n",
    "print(f\"HDFS: {hdfs_fs}\")\n",
    "print(f\"V3IO: {v3io_fs}\")"
   ]
  },
  {
   "cell_type": "code",
   "execution_count": 2,
   "metadata": {},
   "outputs": [
    {
     "name": "stdout",
     "output_type": "stream",
     "text": [
      "Ticket cache: FILE:/User/conf/kerberos/krb5_ccache\n",
      "Default principal: hdfs/hadoop-master.hadoop-domain.default-tenant.svc.cluster.local@EXAMPLE.COM\n",
      "\n",
      "Valid starting     Expires            Service principal\n",
      "01/14/21 17:32:54  01/15/21 17:32:54  krbtgt/EXAMPLE.COM@EXAMPLE.COM\n"
     ]
    }
   ],
   "source": [
    "!kinit -k -t /User/conf/kerberos/krb5.keytab hdfs/hadoop-master.hadoop-domain.default-tenant.svc.cluster.local@EXAMPLE.COM\n",
    "!klist"
   ]
  },
  {
   "cell_type": "code",
   "execution_count": 3,
   "metadata": {},
   "outputs": [],
   "source": [
    "from pyspark.sql import SparkSession\n",
    "\n",
    "spark = SparkSession.builder.appName(\"Example\") \\\n",
    "    .master('k8s://https://kubernetes.default.svc:443') \\\n",
    "    .config('spark.kerberos.principal','hdfs/hadoop-master.hadoop-domain.default-tenant.svc.cluster.local@EXAMPLE.COM') \\\n",
    "    .getOrCreate()\n"
   ]
  },
  {
   "cell_type": "code",
   "execution_count": 4,
   "metadata": {},
   "outputs": [
    {
     "name": "stdout",
     "output_type": "stream",
     "text": [
      "v3io://users/admin/examples/demo.csv\n",
      "+---+--------------------+--------------+-----+-----+----+-----+------+-----------+--------------------+------+---------+-----------+\n",
      "|_c0|                 _c1|           _c2|  _c3|  _c4| _c5|  _c6|   _c7|        _c8|                 _c9|  _c10|     _c11|       _c12|\n",
      "+---+--------------------+--------------+-----+-----+----+-----+------+-----------+--------------------+------+---------+-----------+\n",
      "| id|              street|          city|  zip|state|beds|baths|sq__ft|       type|           sale_date| price| latitude|  longitude|\n",
      "|  1|        3526 HIGH ST|    SACRAMENTO|95838|   CA|   2|    1|   836|Residential|Wed May 21 00:00:...| 59222|38.631913|-121.434879|\n",
      "|  2|         51 OMAHA CT|    SACRAMENTO|95823|   CA|   3|    1|  1167|Residential|Wed May 21 00:00:...| 68212|38.478902|-121.431028|\n",
      "|  3|      2796 BRANCH ST|    SACRAMENTO|95815|   CA|   2|    1|   796|Residential|Wed May 21 00:00:...| 68880|38.618305|-121.443839|\n",
      "|  4|    2805 JANETTE WAY|    SACRAMENTO|95815|   CA|   2|    1|   852|Residential|Wed May 21 00:00:...| 69307|38.616835|-121.439146|\n",
      "|  5|     6001 MCMAHON DR|    SACRAMENTO|95824|   CA|   2|    1|   797|Residential|Wed May 21 00:00:...| 81900| 38.51947|-121.435768|\n",
      "|  6|  5828 PEPPERMILL CT|    SACRAMENTO|95841|   CA|   3|    1|  1122|      Condo|Wed May 21 00:00:...| 89921|38.662595|-121.327813|\n",
      "|  7| 6048 OGDEN NASH WAY|    SACRAMENTO|95842|   CA|   3|    2|  1104|Residential|Wed May 21 00:00:...| 90895|38.681659|-121.351705|\n",
      "|  8|       2561 19TH AVE|    SACRAMENTO|95820|   CA|   3|    1|  1177|Residential|Wed May 21 00:00:...| 91002|38.535092|-121.481367|\n",
      "|  9|11150 TRINITY RIV...|RANCHO CORDOVA|95670|   CA|   2|    2|   941|      Condo|Wed May 21 00:00:...| 94905|38.621188|-121.270555|\n",
      "| 10|        7325 10TH ST|     RIO LINDA|95673|   CA|   3|    2|  1146|Residential|Wed May 21 00:00:...| 98937|38.700909|-121.442979|\n",
      "| 11|    645 MORRISON AVE|    SACRAMENTO|95838|   CA|   3|    2|   909|Residential|Wed May 21 00:00:...|100309|38.637663| -121.45152|\n",
      "| 12|       4085 FAWN CIR|    SACRAMENTO|95823|   CA|   3|    2|  1289|Residential|Wed May 21 00:00:...|106250|38.470746|-121.458918|\n",
      "| 13|     2930 LA ROSA RD|    SACRAMENTO|95815|   CA|   1|    1|   871|Residential|Wed May 21 00:00:...|106852|38.618698|-121.435833|\n",
      "| 14|       2113 KIRK WAY|    SACRAMENTO|95822|   CA|   3|    1|  1020|Residential|Wed May 21 00:00:...|107502|38.482215|-121.492603|\n",
      "| 15| 4533 LOCH HAVEN WAY|    SACRAMENTO|95842|   CA|   2|    2|  1022|Residential|Wed May 21 00:00:...|108750|38.672914| -121.35934|\n",
      "| 16|      7340 HAMDEN PL|    SACRAMENTO|95842|   CA|   2|    2|  1134|      Condo|Wed May 21 00:00:...|110700|38.700051|-121.351278|\n",
      "| 17|         6715 6TH ST|     RIO LINDA|95673|   CA|   2|    1|   844|Residential|Wed May 21 00:00:...|113263|38.689591|-121.452239|\n",
      "| 18|6236 LONGFORD DR ...|CITRUS HEIGHTS|95621|   CA|   2|    1|   795|      Condo|Wed May 21 00:00:...|116250|38.679776|-121.314089|\n",
      "| 19|     250 PERALTA AVE|    SACRAMENTO|95833|   CA|   2|    1|   588|Residential|Wed May 21 00:00:...|120000|38.612099|-121.469095|\n",
      "+---+--------------------+--------------+-----+-----+----+-----+------+-----------+--------------------+------+---------+-----------+\n",
      "only showing top 20 rows\n",
      "\n"
     ]
    }
   ],
   "source": [
    "v3io_path = os.path.join(v3io_fs,'examples','demo.csv')\n",
    "print(v3io_path)\n",
    "\n",
    "v3io_df = spark.read.csv(v3io_path)\n",
    "v3io_df.show()"
   ]
  },
  {
   "cell_type": "code",
   "execution_count": 5,
   "metadata": {},
   "outputs": [
    {
     "name": "stdout",
     "output_type": "stream",
     "text": [
      "hdfs://hadoop-master.hadoop-domain.default-tenant.svc.cluster.local:9000/user/hdfs/output.csv\n"
     ]
    }
   ],
   "source": [
    "output_path = os.path.join(hdfs_fs,'user/hdfs/output.csv')\n",
    "print(output_path)\n",
    "\n",
    "v3io_df.write.csv(output_path, mode='overwrite')"
   ]
  },
  {
   "cell_type": "code",
   "execution_count": 6,
   "metadata": {},
   "outputs": [
    {
     "name": "stdout",
     "output_type": "stream",
     "text": [
      "+---+--------------------+--------------+-----+-----+----+-----+------+-----------+--------------------+------+---------+-----------+\n",
      "|_c0|                 _c1|           _c2|  _c3|  _c4| _c5|  _c6|   _c7|        _c8|                 _c9|  _c10|     _c11|       _c12|\n",
      "+---+--------------------+--------------+-----+-----+----+-----+------+-----------+--------------------+------+---------+-----------+\n",
      "| id|              street|          city|  zip|state|beds|baths|sq__ft|       type|           sale_date| price| latitude|  longitude|\n",
      "|  1|        3526 HIGH ST|    SACRAMENTO|95838|   CA|   2|    1|   836|Residential|Wed May 21 00:00:...| 59222|38.631913|-121.434879|\n",
      "|  2|         51 OMAHA CT|    SACRAMENTO|95823|   CA|   3|    1|  1167|Residential|Wed May 21 00:00:...| 68212|38.478902|-121.431028|\n",
      "|  3|      2796 BRANCH ST|    SACRAMENTO|95815|   CA|   2|    1|   796|Residential|Wed May 21 00:00:...| 68880|38.618305|-121.443839|\n",
      "|  4|    2805 JANETTE WAY|    SACRAMENTO|95815|   CA|   2|    1|   852|Residential|Wed May 21 00:00:...| 69307|38.616835|-121.439146|\n",
      "|  5|     6001 MCMAHON DR|    SACRAMENTO|95824|   CA|   2|    1|   797|Residential|Wed May 21 00:00:...| 81900| 38.51947|-121.435768|\n",
      "|  6|  5828 PEPPERMILL CT|    SACRAMENTO|95841|   CA|   3|    1|  1122|      Condo|Wed May 21 00:00:...| 89921|38.662595|-121.327813|\n",
      "|  7| 6048 OGDEN NASH WAY|    SACRAMENTO|95842|   CA|   3|    2|  1104|Residential|Wed May 21 00:00:...| 90895|38.681659|-121.351705|\n",
      "|  8|       2561 19TH AVE|    SACRAMENTO|95820|   CA|   3|    1|  1177|Residential|Wed May 21 00:00:...| 91002|38.535092|-121.481367|\n",
      "|  9|11150 TRINITY RIV...|RANCHO CORDOVA|95670|   CA|   2|    2|   941|      Condo|Wed May 21 00:00:...| 94905|38.621188|-121.270555|\n",
      "| 10|        7325 10TH ST|     RIO LINDA|95673|   CA|   3|    2|  1146|Residential|Wed May 21 00:00:...| 98937|38.700909|-121.442979|\n",
      "| 11|    645 MORRISON AVE|    SACRAMENTO|95838|   CA|   3|    2|   909|Residential|Wed May 21 00:00:...|100309|38.637663| -121.45152|\n",
      "| 12|       4085 FAWN CIR|    SACRAMENTO|95823|   CA|   3|    2|  1289|Residential|Wed May 21 00:00:...|106250|38.470746|-121.458918|\n",
      "| 13|     2930 LA ROSA RD|    SACRAMENTO|95815|   CA|   1|    1|   871|Residential|Wed May 21 00:00:...|106852|38.618698|-121.435833|\n",
      "| 14|       2113 KIRK WAY|    SACRAMENTO|95822|   CA|   3|    1|  1020|Residential|Wed May 21 00:00:...|107502|38.482215|-121.492603|\n",
      "| 15| 4533 LOCH HAVEN WAY|    SACRAMENTO|95842|   CA|   2|    2|  1022|Residential|Wed May 21 00:00:...|108750|38.672914| -121.35934|\n",
      "| 16|      7340 HAMDEN PL|    SACRAMENTO|95842|   CA|   2|    2|  1134|      Condo|Wed May 21 00:00:...|110700|38.700051|-121.351278|\n",
      "| 17|         6715 6TH ST|     RIO LINDA|95673|   CA|   2|    1|   844|Residential|Wed May 21 00:00:...|113263|38.689591|-121.452239|\n",
      "| 18|6236 LONGFORD DR ...|CITRUS HEIGHTS|95621|   CA|   2|    1|   795|      Condo|Wed May 21 00:00:...|116250|38.679776|-121.314089|\n",
      "| 19|     250 PERALTA AVE|    SACRAMENTO|95833|   CA|   2|    1|   588|Residential|Wed May 21 00:00:...|120000|38.612099|-121.469095|\n",
      "+---+--------------------+--------------+-----+-----+----+-----+------+-----------+--------------------+------+---------+-----------+\n",
      "only showing top 20 rows\n",
      "\n"
     ]
    }
   ],
   "source": [
    "hdfs_df = spark.read.csv(output_path)\n",
    "hdfs_df.show()"
   ]
  },
  {
   "cell_type": "code",
   "execution_count": 7,
   "metadata": {},
   "outputs": [],
   "source": [
    "spark.stop()"
   ]
  },
  {
   "cell_type": "code",
   "execution_count": null,
   "metadata": {},
   "outputs": [],
   "source": []
  }
 ],
 "metadata": {
  "kernelspec": {
   "display_name": "Python [conda env:root] *",
   "language": "python",
   "name": "conda-root-py"
  },
  "language_info": {
   "codemirror_mode": {
    "name": "ipython",
    "version": 3
   },
   "file_extension": ".py",
   "mimetype": "text/x-python",
   "name": "python",
   "nbconvert_exporter": "python",
   "pygments_lexer": "ipython3",
   "version": "3.7.6"
  }
 },
 "nbformat": 4,
 "nbformat_minor": 4
}
